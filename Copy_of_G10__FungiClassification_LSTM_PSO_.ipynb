{
  "nbformat": 4,
  "nbformat_minor": 0,
  "metadata": {
    "colab": {
      "provenance": [],
      "gpuType": "T4",
      "include_colab_link": true
    },
    "kernelspec": {
      "name": "python3",
      "display_name": "Python 3"
    },
    "language_info": {
      "name": "python"
    },
    "accelerator": "GPU"
  },
  "cells": [
    {
      "cell_type": "markdown",
      "metadata": {
        "id": "view-in-github",
        "colab_type": "text"
      },
      "source": [
        "<a href=\"https://colab.research.google.com/github/Parul-Mann/Evolutionary-Computing-PSO-LSTM/blob/main/Copy_of_G10__FungiClassification_LSTM_PSO_.ipynb\" target=\"_parent\"><img src=\"https://colab.research.google.com/assets/colab-badge.svg\" alt=\"Open In Colab\"/></a>"
      ]
    },
    {
      "cell_type": "markdown",
      "source": [
        "Installing pyswarm library for PSO"
      ],
      "metadata": {
        "id": "7_z7RlXN9Q1T"
      }
    },
    {
      "cell_type": "code",
      "execution_count": null,
      "metadata": {
        "id": "2sPLarVKqCdG",
        "colab": {
          "base_uri": "https://localhost:8080/"
        },
        "outputId": "9ab6b60c-5d99-497b-dc8a-ccbf52684f80"
      },
      "outputs": [
        {
          "output_type": "stream",
          "name": "stdout",
          "text": [
            "Requirement already satisfied: pyswarm in /usr/local/lib/python3.10/dist-packages (0.6)\n",
            "Requirement already satisfied: numpy in /usr/local/lib/python3.10/dist-packages (from pyswarm) (1.23.5)\n"
          ]
        }
      ],
      "source": [
        "!pip install pyswarm"
      ]
    },
    {
      "cell_type": "markdown",
      "source": [
        "Importing libraries and models"
      ],
      "metadata": {
        "id": "94xgmYIR3v0v"
      }
    },
    {
      "cell_type": "code",
      "source": [
        "import numpy as np\n",
        "import pandas as pd\n",
        "from sklearn.model_selection import train_test_split\n",
        "from sklearn.preprocessing import LabelEncoder\n",
        "from sklearn.metrics import accuracy_score\n",
        "from tensorflow.keras.models import Sequential\n",
        "from tensorflow.keras.layers import Dense, LSTM, Embedding\n",
        "from tensorflow.keras.preprocessing.sequence import pad_sequences\n",
        "from pyswarm import pso\n",
        "import matplotlib.pyplot as plt"
      ],
      "metadata": {
        "id": "ZWZ16BzC3iYN"
      },
      "execution_count": null,
      "outputs": []
    },
    {
      "cell_type": "markdown",
      "source": [
        "Loading the dataset"
      ],
      "metadata": {
        "id": "Plmd0gkl35jp"
      }
    },
    {
      "cell_type": "code",
      "source": [
        "url = \"https://archive.ics.uci.edu/ml/machine-learning-databases/mushroom/agaricus-lepiota.data\""
      ],
      "metadata": {
        "id": "iJ9lu42i4_ue"
      },
      "execution_count": null,
      "outputs": []
    },
    {
      "cell_type": "markdown",
      "source": [
        "List of features"
      ],
      "metadata": {
        "id": "ebvnFYEq5B32"
      }
    },
    {
      "cell_type": "code",
      "source": [
        "names = [\"class\", \"cap-shape\", \"cap-surface\", \"cap-color\", \"bruises\", \"odor\",\n",
        "         \"gill-attachment\", \"gill-spacing\", \"gill-size\", \"gill-color\",\n",
        "         \"stalk-shape\", \"stalk-root\", \"stalk-surface-above-ring\",\n",
        "         \"stalk-surface-below-ring\", \"stalk-color-above-ring\",\n",
        "         \"stalk-color-below-ring\", \"veil-type\", \"veil-color\", \"ring-number\",\n",
        "         \"ring-type\", \"spore-print-color\", \"population\", \"habitat\"]"
      ],
      "metadata": {
        "id": "znUB-nXG5TL9"
      },
      "execution_count": null,
      "outputs": []
    },
    {
      "cell_type": "markdown",
      "source": [
        "Defining a dataframe"
      ],
      "metadata": {
        "id": "yUzrk8JS5VTD"
      }
    },
    {
      "cell_type": "code",
      "source": [
        "df = pd.read_csv(url, header=None, names=names)"
      ],
      "metadata": {
        "id": "d-wOfOo_5YiG"
      },
      "execution_count": null,
      "outputs": []
    },
    {
      "cell_type": "markdown",
      "source": [
        "Conversion of variables (Categorical to Numerical)"
      ],
      "metadata": {
        "id": "FryNT8wv5at5"
      }
    },
    {
      "cell_type": "code",
      "source": [
        "le = LabelEncoder()\n",
        "for col in df.columns:\n",
        "    df[col] = le.fit_transform(df[col])"
      ],
      "metadata": {
        "id": "u4Am-8Cg5aH3"
      },
      "execution_count": null,
      "outputs": []
    },
    {
      "cell_type": "markdown",
      "source": [
        "Data Preparation"
      ],
      "metadata": {
        "id": "wD3vqbBY5bIH"
      }
    },
    {
      "cell_type": "code",
      "source": [
        "X = df.drop('class', axis=1)\n",
        "y = df['class']\n",
        "\n",
        "X_padded = pad_sequences(X.values, maxlen=X.shape[1])"
      ],
      "metadata": {
        "id": "Pa6x8VcS5leS"
      },
      "execution_count": null,
      "outputs": []
    },
    {
      "cell_type": "markdown",
      "source": [
        "Splitting the dataset into training set and testing set"
      ],
      "metadata": {
        "id": "VChu5P675vwL"
      }
    },
    {
      "cell_type": "code",
      "source": [
        "X_train, X_test, y_train, y_test = train_test_split(X_padded, y, test_size=0.2, random_state=42)"
      ],
      "metadata": {
        "id": "TiSSGMVw5tBx"
      },
      "execution_count": null,
      "outputs": []
    },
    {
      "cell_type": "markdown",
      "source": [
        "Setting random hyperparameters for DL Model"
      ],
      "metadata": {
        "id": "6d8Fh8yY51z8"
      }
    },
    {
      "cell_type": "code",
      "source": [
        "embedding_output_dim = np.random.randint(10, 100)\n",
        "lstm_units = np.random.randint(10, 200)\n",
        "dense_units = np.random.randint(10, 500)\n",
        "batch_size = np.random.randint(32, 728)\n",
        "epochs_before = np.random.randint(5, 20)"
      ],
      "metadata": {
        "id": "bJWohTsL57ox"
      },
      "execution_count": null,
      "outputs": []
    },
    {
      "cell_type": "markdown",
      "source": [
        "Building the LSTM Deep Learning Model"
      ],
      "metadata": {
        "id": "Djyfktw95_c7"
      }
    },
    {
      "cell_type": "code",
      "source": [
        "model = Sequential()\n",
        "model.add(Embedding(input_dim=len(df.columns), output_dim=embedding_output_dim, input_length=X_padded.shape[1]))\n",
        "model.add(LSTM(lstm_units))\n",
        "model.add(Dense(dense_units, activation='sigmoid'))\n",
        "model.add(Dense(1, activation='sigmoid'))\n",
        "model.compile(loss='binary_crossentropy', optimizer='adam', metrics=['accuracy'])"
      ],
      "metadata": {
        "id": "kpCfbrj76D8L"
      },
      "execution_count": null,
      "outputs": []
    },
    {
      "cell_type": "markdown",
      "source": [
        "Training the model"
      ],
      "metadata": {
        "id": "s7Ykih8g6IOq"
      }
    },
    {
      "cell_type": "code",
      "source": [
        "history_before = model.fit(X_train, y_train, epochs = epochs_before, batch_size=batch_size, verbose=1, validation_data=(X_test, y_test))"
      ],
      "metadata": {
        "colab": {
          "base_uri": "https://localhost:8080/"
        },
        "id": "pOHJdRDm6GM-",
        "outputId": "906807b2-35e0-42e5-bd8a-df6c1451a51d"
      },
      "execution_count": null,
      "outputs": [
        {
          "output_type": "stream",
          "name": "stdout",
          "text": [
            "Epoch 1/8\n",
            "9/9 [==============================] - 6s 71ms/step - loss: 0.7565 - accuracy: 0.4984 - val_loss: 0.7107 - val_accuracy: 0.5188\n",
            "Epoch 2/8\n",
            "9/9 [==============================] - 0s 15ms/step - loss: 0.7099 - accuracy: 0.5178 - val_loss: 0.6888 - val_accuracy: 0.5188\n",
            "Epoch 3/8\n",
            "9/9 [==============================] - 0s 17ms/step - loss: 0.6848 - accuracy: 0.5084 - val_loss: 0.6759 - val_accuracy: 0.4812\n",
            "Epoch 4/8\n",
            "9/9 [==============================] - 0s 14ms/step - loss: 0.6180 - accuracy: 0.7130 - val_loss: 0.5154 - val_accuracy: 0.8228\n",
            "Epoch 5/8\n",
            "9/9 [==============================] - 0s 15ms/step - loss: 0.3890 - accuracy: 0.8640 - val_loss: 0.3242 - val_accuracy: 0.8806\n",
            "Epoch 6/8\n",
            "9/9 [==============================] - 0s 13ms/step - loss: 0.3115 - accuracy: 0.8883 - val_loss: 0.3174 - val_accuracy: 0.8837\n",
            "Epoch 7/8\n",
            "9/9 [==============================] - 0s 13ms/step - loss: 0.2686 - accuracy: 0.8997 - val_loss: 0.2552 - val_accuracy: 0.9028\n",
            "Epoch 8/8\n",
            "9/9 [==============================] - 0s 13ms/step - loss: 0.2227 - accuracy: 0.9171 - val_loss: 0.2301 - val_accuracy: 0.9058\n"
          ]
        }
      ]
    },
    {
      "cell_type": "markdown",
      "source": [
        "Model Evaluation"
      ],
      "metadata": {
        "id": "jPaRlcdi6LKJ"
      }
    },
    {
      "cell_type": "code",
      "source": [
        "y_pred_prob = model.predict(X_test)\n",
        "y_pred = (y_pred_prob > 0.5).astype(int)\n",
        "accuracy = accuracy_score(y_test, y_pred)\n",
        "\n",
        "print(\"\\nModel Accuracy: %.2f%%\" % (accuracy * 100))"
      ],
      "metadata": {
        "colab": {
          "base_uri": "https://localhost:8080/"
        },
        "id": "9mK7fqX16NPS",
        "outputId": "7eea8194-3d8b-4691-ee32-21c896322a5b"
      },
      "execution_count": null,
      "outputs": [
        {
          "output_type": "stream",
          "name": "stdout",
          "text": [
            "51/51 [==============================] - 1s 3ms/step\n",
            "\n",
            "Model Accuracy: 90.58%\n"
          ]
        }
      ]
    },
    {
      "cell_type": "markdown",
      "source": [
        "Plotting the Accuracy Variation for the model"
      ],
      "metadata": {
        "id": "M4Z5IO4pZHQk"
      }
    },
    {
      "cell_type": "code",
      "source": [
        "plt.plot(history_before.history['accuracy'], marker='o')\n",
        "plt.title('Model accuracy')\n",
        "plt.ylabel('Accuracy')\n",
        "plt.xlabel('Epoch')\n",
        "plt.show()"
      ],
      "metadata": {
        "colab": {
          "base_uri": "https://localhost:8080/",
          "height": 472
        },
        "id": "qNoF0B_NZEKx",
        "outputId": "f23dbeb8-c36e-447f-fb34-849fa84f9d7a"
      },
      "execution_count": null,
      "outputs": [
        {
          "output_type": "display_data",
          "data": {
            "text/plain": [
              "<Figure size 640x480 with 1 Axes>"
            ],
            "image/png": "[encoded data removed]"
          },
          "metadata": {}
        }
      ]
    },
    {
      "cell_type": "markdown",
      "source": [
        "Defining the Objective Function that builds, trains and evaluates the model. It returns a negative accuracy as the PSO Algorithm minimizes the Objective Function."
      ],
      "metadata": {
        "id": "06FiFnPb6r-7"
      }
    },
    {
      "cell_type": "code",
      "source": [
        "def objective(hyperparameters):\n",
        "    embedding_output_dim, lstm_units, dense_units, batch_size, epochs = hyperparameters\n",
        "\n",
        "    # Building\n",
        "    model = Sequential()\n",
        "    model.add(Embedding(input_dim=len(df.columns), output_dim=int(round(embedding_output_dim)), input_length=X_padded.shape[1]))\n",
        "    model.add(LSTM(int(round(lstm_units))))\n",
        "    model.add(Dense(int(round(dense_units)), activation='sigmoid'))\n",
        "    model.add(Dense(1, activation='sigmoid'))\n",
        "    model.compile(loss='binary_crossentropy', optimizer='adam', metrics=['accuracy'])\n",
        "\n",
        "    # Training\n",
        "    history = model.fit(X_train, y_train, epochs=int(epochs), batch_size=int(batch_size), validation_data=(X_test, y_test), verbose=0)\n",
        "\n",
        "    # Evaluation\n",
        "    y_pred_prob = model.predict(X_test)\n",
        "    y_pred = (y_pred_prob > 0.5).astype(int)\n",
        "    accuracy = accuracy_score(y_test, y_pred)\n",
        "\n",
        "    return -accuracy"
      ],
      "metadata": {
        "id": "Gm8bPZIH7Gej"
      },
      "execution_count": null,
      "outputs": []
    },
    {
      "cell_type": "markdown",
      "source": [
        "Defining the Hyperparameter Search Space in the order of embedding_output_dim, lstm_units, dense_units, batch_size and epochs"
      ],
      "metadata": {
        "id": "0fLrJ5vN7e5a"
      }
    },
    {
      "cell_type": "code",
      "source": [
        "lb = [16, 50, 50, 32, 5]\n",
        "ub = [32, 100, 100, 64, 10]"
      ],
      "metadata": {
        "id": "donBu4vK7l6r"
      },
      "execution_count": null,
      "outputs": []
    },
    {
      "cell_type": "markdown",
      "source": [
        "Empty list for storing accuracy for plotting"
      ],
      "metadata": {
        "id": "p8Az0pO9W7C1"
      }
    },
    {
      "cell_type": "code",
      "source": [
        "accuracy_list = []"
      ],
      "metadata": {
        "id": "w7PNrnSEWd61"
      },
      "execution_count": null,
      "outputs": []
    },
    {
      "cell_type": "markdown",
      "source": [
        "Finding the best Hyperparameters using the PSO Algorithm"
      ],
      "metadata": {
        "id": "SbD_SUsE756y"
      }
    },
    {
      "cell_type": "code",
      "source": [
        "for i in range(10):\n",
        "    best_hyperparameters, _ = pso(objective, lb, ub, swarmsize=10, maxiter=1)\n",
        "    accuracy_list.append(-objective(best_hyperparameters))"
      ],
      "metadata": {
        "colab": {
          "base_uri": "https://localhost:8080/"
        },
        "id": "SR9497TQWkLj",
        "outputId": "deac8987-5d31-4aa6-9c59-f0e790d09c36"
      },
      "execution_count": null,
      "outputs": [
        {
          "output_type": "stream",
          "name": "stdout",
          "text": [
            "51/51 [==============================] - 0s 2ms/step\n",
            "51/51 [==============================] - 0s 2ms/step\n",
            "51/51 [==============================] - 0s 2ms/step\n",
            "51/51 [==============================] - 0s 2ms/step\n",
            "51/51 [==============================] - 0s 2ms/step\n",
            "51/51 [==============================] - 0s 2ms/step\n",
            "51/51 [==============================] - 0s 2ms/step\n",
            "51/51 [==============================] - 1s 3ms/step\n",
            "51/51 [==============================] - 1s 4ms/step\n",
            "51/51 [==============================] - 0s 2ms/step\n",
            "51/51 [==============================] - 0s 2ms/step\n",
            "51/51 [==============================] - 0s 2ms/step\n",
            "51/51 [==============================] - 0s 2ms/step\n",
            "51/51 [==============================] - 0s 2ms/step\n",
            "51/51 [==============================] - 0s 2ms/step\n",
            "51/51 [==============================] - 0s 2ms/step\n",
            "51/51 [==============================] - 1s 3ms/step\n",
            "51/51 [==============================] - 1s 3ms/step\n",
            "51/51 [==============================] - 1s 3ms/step\n",
            "51/51 [==============================] - 0s 2ms/step\n",
            "Stopping search: maximum iterations reached --> 1\n",
            "51/51 [==============================] - 0s 2ms/step\n",
            "51/51 [==============================] - 0s 2ms/step\n",
            "51/51 [==============================] - 0s 2ms/step\n",
            "51/51 [==============================] - 0s 2ms/step\n",
            "51/51 [==============================] - 0s 2ms/step\n",
            "51/51 [==============================] - 1s 3ms/step\n",
            "51/51 [==============================] - 0s 2ms/step\n",
            "51/51 [==============================] - 0s 2ms/step\n",
            "51/51 [==============================] - 1s 2ms/step\n",
            "51/51 [==============================] - 0s 2ms/step\n",
            "51/51 [==============================] - 0s 3ms/step\n",
            "51/51 [==============================] - 0s 2ms/step\n",
            "51/51 [==============================] - 0s 2ms/step\n",
            "51/51 [==============================] - 0s 2ms/step\n",
            "51/51 [==============================] - 0s 2ms/step\n",
            "51/51 [==============================] - 1s 2ms/step\n",
            "51/51 [==============================] - 0s 2ms/step\n",
            "51/51 [==============================] - 1s 3ms/step\n",
            "51/51 [==============================] - 1s 3ms/step\n",
            "51/51 [==============================] - 1s 4ms/step\n",
            "51/51 [==============================] - 0s 2ms/step\n",
            "Stopping search: maximum iterations reached --> 1\n",
            "51/51 [==============================] - 0s 2ms/step\n",
            "51/51 [==============================] - 0s 2ms/step\n",
            "51/51 [==============================] - 1s 2ms/step\n",
            "51/51 [==============================] - 0s 2ms/step\n",
            "51/51 [==============================] - 1s 3ms/step\n",
            "51/51 [==============================] - 1s 3ms/step\n",
            "51/51 [==============================] - 0s 2ms/step\n",
            "51/51 [==============================] - 0s 2ms/step\n",
            "51/51 [==============================] - 1s 2ms/step\n",
            "51/51 [==============================] - 1s 3ms/step\n",
            "51/51 [==============================] - 0s 2ms/step\n",
            "51/51 [==============================] - 0s 2ms/step\n",
            "51/51 [==============================] - 0s 2ms/step\n",
            "51/51 [==============================] - 1s 2ms/step\n",
            "51/51 [==============================] - 0s 3ms/step\n",
            "51/51 [==============================] - 1s 3ms/step\n",
            "51/51 [==============================] - 1s 3ms/step\n",
            "51/51 [==============================] - 0s 2ms/step\n",
            "51/51 [==============================] - 0s 2ms/step\n",
            "51/51 [==============================] - 0s 2ms/step\n",
            "51/51 [==============================] - 0s 2ms/step\n",
            "Stopping search: maximum iterations reached --> 1\n",
            "51/51 [==============================] - 0s 2ms/step\n",
            "51/51 [==============================] - 0s 2ms/step\n",
            "51/51 [==============================] - 0s 2ms/step\n",
            "51/51 [==============================] - 0s 2ms/step\n",
            "51/51 [==============================] - 1s 3ms/step\n",
            "51/51 [==============================] - 1s 3ms/step\n",
            "51/51 [==============================] - 1s 3ms/step\n",
            "51/51 [==============================] - 0s 2ms/step\n",
            "51/51 [==============================] - 0s 2ms/step\n",
            "51/51 [==============================] - 0s 2ms/step\n",
            "51/51 [==============================] - 0s 2ms/step\n",
            "51/51 [==============================] - 1s 3ms/step\n",
            "51/51 [==============================] - 1s 3ms/step\n",
            "51/51 [==============================] - 0s 2ms/step\n",
            "51/51 [==============================] - 0s 2ms/step\n",
            "51/51 [==============================] - 1s 2ms/step\n",
            "51/51 [==============================] - 0s 2ms/step\n",
            "51/51 [==============================] - 0s 2ms/step\n",
            "51/51 [==============================] - 0s 2ms/step\n",
            "51/51 [==============================] - 0s 3ms/step\n",
            "51/51 [==============================] - 0s 3ms/step\n",
            "Stopping search: maximum iterations reached --> 1\n",
            "51/51 [==============================] - 0s 2ms/step\n",
            "51/51 [==============================] - 0s 2ms/step\n",
            "51/51 [==============================] - 0s 2ms/step\n",
            "51/51 [==============================] - 0s 2ms/step\n",
            "51/51 [==============================] - 0s 2ms/step\n",
            "51/51 [==============================] - 0s 2ms/step\n",
            "51/51 [==============================] - 0s 2ms/step\n",
            "51/51 [==============================] - 0s 2ms/step\n",
            "51/51 [==============================] - 1s 3ms/step\n",
            "51/51 [==============================] - 0s 2ms/step\n",
            "51/51 [==============================] - 0s 3ms/step\n",
            "51/51 [==============================] - 1s 3ms/step\n",
            "51/51 [==============================] - 0s 2ms/step\n",
            "51/51 [==============================] - 0s 2ms/step\n",
            "51/51 [==============================] - 0s 2ms/step\n",
            "51/51 [==============================] - 1s 2ms/step\n",
            "51/51 [==============================] - 1s 3ms/step\n",
            "51/51 [==============================] - 1s 3ms/step\n",
            "51/51 [==============================] - 0s 2ms/step\n",
            "51/51 [==============================] - 0s 2ms/step\n",
            "51/51 [==============================] - 1s 3ms/step\n",
            "Stopping search: maximum iterations reached --> 1\n",
            "51/51 [==============================] - 1s 2ms/step\n",
            "51/51 [==============================] - 0s 2ms/step\n",
            "51/51 [==============================] - 0s 2ms/step\n",
            "51/51 [==============================] - 1s 3ms/step\n",
            "51/51 [==============================] - 0s 2ms/step\n",
            "51/51 [==============================] - 0s 2ms/step\n",
            "51/51 [==============================] - 1s 2ms/step\n",
            "51/51 [==============================] - 0s 2ms/step\n",
            "51/51 [==============================] - 1s 3ms/step\n",
            "51/51 [==============================] - 1s 3ms/step\n",
            "51/51 [==============================] - 0s 2ms/step\n",
            "51/51 [==============================] - 1s 3ms/step\n",
            "51/51 [==============================] - 0s 3ms/step\n",
            "51/51 [==============================] - 0s 3ms/step\n",
            "51/51 [==============================] - 1s 3ms/step\n",
            "51/51 [==============================] - 0s 2ms/step\n",
            "51/51 [==============================] - 0s 2ms/step\n",
            "51/51 [==============================] - 0s 2ms/step\n",
            "51/51 [==============================] - 1s 2ms/step\n",
            "51/51 [==============================] - 0s 2ms/step\n",
            "51/51 [==============================] - 1s 3ms/step\n",
            "Stopping search: maximum iterations reached --> 1\n",
            "51/51 [==============================] - 0s 2ms/step\n",
            "51/51 [==============================] - 0s 2ms/step\n",
            "51/51 [==============================] - 0s 2ms/step\n",
            "51/51 [==============================] - 0s 2ms/step\n",
            "51/51 [==============================] - 1s 2ms/step\n",
            "51/51 [==============================] - 0s 2ms/step\n",
            "51/51 [==============================] - 0s 2ms/step\n",
            "51/51 [==============================] - 1s 3ms/step\n",
            "51/51 [==============================] - 0s 2ms/step\n",
            "51/51 [==============================] - 0s 2ms/step\n",
            "51/51 [==============================] - 0s 2ms/step\n",
            "51/51 [==============================] - 1s 2ms/step\n",
            "51/51 [==============================] - 1s 3ms/step\n",
            "51/51 [==============================] - 1s 2ms/step\n",
            "51/51 [==============================] - 1s 2ms/step\n",
            "51/51 [==============================] - 0s 2ms/step\n",
            "51/51 [==============================] - 1s 3ms/step\n",
            "51/51 [==============================] - 0s 2ms/step\n",
            "51/51 [==============================] - 1s 2ms/step\n",
            "51/51 [==============================] - 0s 2ms/step\n",
            "51/51 [==============================] - 0s 2ms/step\n",
            "Stopping search: maximum iterations reached --> 1\n",
            "51/51 [==============================] - 0s 3ms/step\n",
            "51/51 [==============================] - 0s 2ms/step\n",
            "51/51 [==============================] - 0s 3ms/step\n",
            "51/51 [==============================] - 0s 2ms/step\n",
            "51/51 [==============================] - 1s 2ms/step\n",
            "51/51 [==============================] - 0s 2ms/step\n",
            "51/51 [==============================] - 0s 2ms/step\n",
            "51/51 [==============================] - 1s 3ms/step\n",
            "51/51 [==============================] - 1s 2ms/step\n",
            "51/51 [==============================] - 1s 3ms/step\n",
            "51/51 [==============================] - 0s 2ms/step\n",
            "51/51 [==============================] - 0s 2ms/step\n",
            "51/51 [==============================] - 0s 2ms/step\n",
            "51/51 [==============================] - 0s 2ms/step\n",
            "51/51 [==============================] - 1s 2ms/step\n",
            "51/51 [==============================] - 0s 2ms/step\n",
            "51/51 [==============================] - 1s 4ms/step\n",
            "51/51 [==============================] - 1s 3ms/step\n",
            "51/51 [==============================] - 1s 3ms/step\n",
            "51/51 [==============================] - 1s 3ms/step\n",
            "51/51 [==============================] - 1s 3ms/step\n",
            "Stopping search: maximum iterations reached --> 1\n",
            "51/51 [==============================] - 1s 2ms/step\n",
            "51/51 [==============================] - 0s 2ms/step\n",
            "51/51 [==============================] - 1s 3ms/step\n",
            "51/51 [==============================] - 0s 2ms/step\n",
            "51/51 [==============================] - 0s 2ms/step\n",
            "51/51 [==============================] - 1s 3ms/step\n",
            "51/51 [==============================] - 0s 2ms/step\n",
            "51/51 [==============================] - 1s 2ms/step\n",
            "51/51 [==============================] - 0s 2ms/step\n",
            "51/51 [==============================] - 0s 2ms/step\n",
            "51/51 [==============================] - 0s 2ms/step\n",
            "51/51 [==============================] - 0s 2ms/step\n",
            "51/51 [==============================] - 1s 4ms/step\n",
            "51/51 [==============================] - 1s 3ms/step\n",
            "51/51 [==============================] - 1s 3ms/step\n",
            "51/51 [==============================] - 0s 2ms/step\n",
            "51/51 [==============================] - 0s 2ms/step\n",
            "51/51 [==============================] - 0s 2ms/step\n",
            "51/51 [==============================] - 0s 2ms/step\n",
            "51/51 [==============================] - 0s 3ms/step\n",
            "51/51 [==============================] - 0s 2ms/step\n",
            "Stopping search: maximum iterations reached --> 1\n",
            "51/51 [==============================] - 1s 2ms/step\n",
            "51/51 [==============================] - 1s 3ms/step\n",
            "51/51 [==============================] - 0s 2ms/step\n",
            "51/51 [==============================] - 0s 2ms/step\n",
            "51/51 [==============================] - 1s 4ms/step\n",
            "51/51 [==============================] - 1s 4ms/step\n",
            "51/51 [==============================] - 1s 3ms/step\n",
            "51/51 [==============================] - 1s 2ms/step\n",
            "51/51 [==============================] - 0s 2ms/step\n",
            "51/51 [==============================] - 0s 2ms/step\n",
            "51/51 [==============================] - 0s 2ms/step\n",
            "51/51 [==============================] - 0s 2ms/step\n",
            "51/51 [==============================] - 1s 3ms/step\n",
            "51/51 [==============================] - 0s 2ms/step\n",
            "51/51 [==============================] - 1s 2ms/step\n",
            "51/51 [==============================] - 0s 2ms/step\n",
            "51/51 [==============================] - 0s 2ms/step\n",
            "51/51 [==============================] - 0s 2ms/step\n",
            "51/51 [==============================] - 1s 2ms/step\n",
            "51/51 [==============================] - 0s 2ms/step\n",
            "51/51 [==============================] - 1s 3ms/step\n",
            "Stopping search: maximum iterations reached --> 1\n",
            "51/51 [==============================] - 1s 3ms/step\n"
          ]
        }
      ]
    },
    {
      "cell_type": "markdown",
      "source": [
        "Plotting the change in accuracy across all iterations"
      ],
      "metadata": {
        "id": "lPD_1SMWXLmq"
      }
    },
    {
      "cell_type": "code",
      "source": [
        "iteration_list = list(range(1, len(accuracy_list) + 1))\n",
        "plt.plot(iteration_list, accuracy_list, marker='o')\n",
        "plt.xlabel('PSO Iteration')\n",
        "plt.ylabel('Accuracy')\n",
        "plt.title('Accuracy Change with PSO Iterations')\n",
        "plt.show()"
      ],
      "metadata": {
        "colab": {
          "base_uri": "https://localhost:8080/",
          "height": 472
        },
        "id": "tHLE8ZiAWogX",
        "outputId": "fcc6c467-2a19-4798-f023-804f1c904657"
      },
      "execution_count": null,
      "outputs": [
        {
          "output_type": "display_data",
          "data": {
            "text/plain": [
              "<Figure size 640x480 with 1 Axes>"
            ],
            "image/png": "[encoded data removed]"
          },
          "metadata": {}
        }
      ]
    },
    {
      "cell_type": "markdown",
      "source": [
        "List of best hyperparameters in the order of embedding_output_dim, lstm_units, dense_units, batch_size and epochs"
      ],
      "metadata": {
        "id": "76njcFoAXR7B"
      }
    },
    {
      "cell_type": "code",
      "source": [
        "print(\"Best hyperparameters:\", best_hyperparameters)"
      ],
      "metadata": {
        "colab": {
          "base_uri": "https://localhost:8080/"
        },
        "id": "L4fEHSXaWhQ_",
        "outputId": "862efcf7-7d1d-4684-ac04-d0e5648424c5"
      },
      "execution_count": null,
      "outputs": [
        {
          "output_type": "stream",
          "name": "stdout",
          "text": [
            "Best hyperparameters: [26.37304789 50.09642899 74.43006286 34.27380098  9.21523553]\n"
          ]
        }
      ]
    },
    {
      "cell_type": "markdown",
      "source": [
        "\n",
        "Best hyperparameters obtained from PSO:\n",
        "\n",
        "* embedding_output_dim = 26\n",
        "* lstm_units = 50\n",
        "* dense_units = 74\n",
        "* batch_size = 34\n",
        "* epochs = 9\n",
        "\n"
      ],
      "metadata": {
        "id": "pZGl5OfNcq1h"
      }
    },
    {
      "cell_type": "markdown",
      "source": [
        "Replacing the old Hyperparameters with the new Hyperparameters obtained from PSO"
      ],
      "metadata": {
        "id": "eXXgHU4x8LJS"
      }
    },
    {
      "cell_type": "code",
      "source": [
        "embedding_output_dim = 26\n",
        "lstm_units = 50\n",
        "dense_units = 74\n",
        "batch_size = 34\n",
        "epochs_after = 9"
      ],
      "metadata": {
        "id": "8ekATsbE8VPy"
      },
      "execution_count": null,
      "outputs": []
    },
    {
      "cell_type": "markdown",
      "source": [
        "Training the model with updated Hyperparameters"
      ],
      "metadata": {
        "id": "hU0yS9mv8kAi"
      }
    },
    {
      "cell_type": "code",
      "source": [
        "history_after = model.fit(X_train, y_train, epochs = epochs_after, batch_size=batch_size, verbose=1)"
      ],
      "metadata": {
        "colab": {
          "base_uri": "https://localhost:8080/"
        },
        "id": "COA3LDySqvCe",
        "outputId": "047e5ad2-25b2-416b-b5b8-a560f124887b"
      },
      "execution_count": null,
      "outputs": [
        {
          "output_type": "stream",
          "name": "stdout",
          "text": [
            "Epoch 1/9\n",
            "192/192 [==============================] - 2s 10ms/step - loss: 0.0333 - accuracy: 0.9911\n",
            "Epoch 2/9\n",
            "192/192 [==============================] - 2s 12ms/step - loss: 0.0047 - accuracy: 0.9983\n",
            "Epoch 3/9\n",
            "192/192 [==============================] - 1s 8ms/step - loss: 0.0011 - accuracy: 0.9997\n",
            "Epoch 4/9\n",
            "192/192 [==============================] - 1s 5ms/step - loss: 3.4503e-04 - accuracy: 1.0000\n",
            "Epoch 5/9\n",
            "192/192 [==============================] - 1s 5ms/step - loss: 1.8100e-04 - accuracy: 1.0000\n",
            "Epoch 6/9\n",
            "192/192 [==============================] - 1s 5ms/step - loss: 1.1695e-04 - accuracy: 1.0000\n",
            "Epoch 7/9\n",
            "192/192 [==============================] - 1s 6ms/step - loss: 8.3888e-05 - accuracy: 1.0000\n",
            "Epoch 8/9\n",
            "192/192 [==============================] - 1s 5ms/step - loss: 6.1400e-05 - accuracy: 1.0000\n",
            "Epoch 9/9\n",
            "192/192 [==============================] - 1s 5ms/step - loss: 4.8338e-05 - accuracy: 1.0000\n"
          ]
        }
      ]
    },
    {
      "cell_type": "markdown",
      "source": [
        "Evaluation of the model with new Hyperparameters"
      ],
      "metadata": {
        "id": "D1rbN0Xj8u6f"
      }
    },
    {
      "cell_type": "code",
      "source": [
        "y_pred_prob = model.predict(X_test)\n",
        "y_pred = (y_pred_prob > 0.5).astype(int)\n",
        "accuracy = accuracy_score(y_test, y_pred)\n",
        "\n",
        "print(\"\\nModel Accuracy: %.2f%%\" % (accuracy * 100))\n"
      ],
      "metadata": {
        "colab": {
          "base_uri": "https://localhost:8080/"
        },
        "id": "CICCvS_W8z12",
        "outputId": "f611f4a2-1aaf-4d74-b337-5be8983ca49f"
      },
      "execution_count": null,
      "outputs": [
        {
          "output_type": "stream",
          "name": "stdout",
          "text": [
            "51/51 [==============================] - 0s 2ms/step\n",
            "\n",
            "Model Accuracy: 100.00%\n"
          ]
        }
      ]
    },
    {
      "cell_type": "markdown",
      "source": [
        "Plotting the Accuracy Variation for the tuned model"
      ],
      "metadata": {
        "id": "09aj6ZJcbv67"
      }
    },
    {
      "cell_type": "code",
      "source": [
        "plt.plot(history_after.history['accuracy'], marker='o')\n",
        "plt.title('Model accuracy')\n",
        "plt.ylabel('Accuracy')\n",
        "plt.xlabel('Epoch')\n",
        "plt.show()"
      ],
      "metadata": {
        "colab": {
          "base_uri": "https://localhost:8080/",
          "height": 472
        },
        "id": "i2TYHWT5bvRx",
        "outputId": "dc13aedc-ccb3-4a34-bb5c-cbec178dc961"
      },
      "execution_count": null,
      "outputs": [
        {
          "output_type": "display_data",
          "data": {
            "text/plain": [
              "<Figure size 640x480 with 1 Axes>"
            ],
            "image/png": "[encoded data removed]"
          },
          "metadata": {}
        }
      ]
    },
    {
      "cell_type": "markdown",
      "source": [
        "Plotting Accuracy Variation before and after Hyperparameter Optimization using PSO"
      ],
      "metadata": {
        "id": "nQYgViV5eUec"
      }
    },
    {
      "cell_type": "code",
      "source": [
        "e1 = [i for i in range(1, epochs_before + 1)]\n",
        "e2 = [i for i in range(1, epochs_after + 1)]\n",
        "\n",
        "plt.plot(e1, history_before.history['accuracy'], label='Before Hyperparameter Optimization', marker='o')\n",
        "plt.plot(e2, history_after.history['accuracy'], label='After Hyperparameter Optimization', marker='o')\n",
        "\n",
        "plt.xlabel('Number of Epochs')\n",
        "plt.ylabel('Accuracy (%)')\n",
        "plt.title('Accuracy Before and After Hyperparameter Optimization using PSO')\n",
        "plt.legend()\n",
        "plt.grid(True)\n",
        "plt.show()"
      ],
      "metadata": {
        "colab": {
          "base_uri": "https://localhost:8080/",
          "height": 472
        },
        "id": "NA9qvbDbfYPZ",
        "outputId": "0c465eb7-e151-4088-9548-0fbf0f57dbde"
      },
      "execution_count": null,
      "outputs": [
        {
          "output_type": "display_data",
          "data": {
            "text/plain": [
              "<Figure size 640x480 with 1 Axes>"
            ],
            "image/png": "[encoded data removed]"
          },
          "metadata": {}
        }
      ]
    }
  ]
}